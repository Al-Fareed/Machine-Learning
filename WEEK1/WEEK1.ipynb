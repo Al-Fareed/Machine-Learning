{
 "cells": [
  {
   "cell_type": "code",
   "execution_count": 8,
   "id": "6f440306",
   "metadata": {},
   "outputs": [],
   "source": [
    "x=20 \n",
    "y=30"
   ]
  },
  {
   "cell_type": "code",
   "execution_count": 9,
   "id": "5ec890d5",
   "metadata": {},
   "outputs": [
    {
     "data": {
      "text/plain": [
       "20"
      ]
     },
     "execution_count": 9,
     "metadata": {},
     "output_type": "execute_result"
    }
   ],
   "source": [
    "x"
   ]
  },
  {
   "cell_type": "code",
   "execution_count": 10,
   "id": "ea24f3b9",
   "metadata": {},
   "outputs": [
    {
     "data": {
      "text/plain": [
       "30"
      ]
     },
     "execution_count": 10,
     "metadata": {},
     "output_type": "execute_result"
    }
   ],
   "source": [
    "y"
   ]
  },
  {
   "cell_type": "code",
   "execution_count": 17,
   "id": "4846133e",
   "metadata": {},
   "outputs": [
    {
     "name": "stdout",
     "output_type": "stream",
     "text": [
      "X value = 20 and Y value = 30\n"
     ]
    }
   ],
   "source": [
    "print(\"X value =\",x,\"and Y value =\",y)"
   ]
  },
  {
   "cell_type": "code",
   "execution_count": 20,
   "id": "9d33d6ef",
   "metadata": {},
   "outputs": [
    {
     "name": "stdout",
     "output_type": "stream",
     "text": [
      "Enter a number10\n"
     ]
    }
   ],
   "source": [
    "x = input('Enter a number')"
   ]
  },
  {
   "cell_type": "code",
   "execution_count": 23,
   "id": "e9afe877",
   "metadata": {},
   "outputs": [
    {
     "name": "stdout",
     "output_type": "stream",
     "text": [
      "Enter a number 10\n"
     ]
    }
   ],
   "source": [
    "x = int(input('Enter a number '))"
   ]
  },
  {
   "cell_type": "code",
   "execution_count": 24,
   "id": "9dfcbcb2",
   "metadata": {},
   "outputs": [
    {
     "data": {
      "text/plain": [
       "int"
      ]
     },
     "execution_count": 24,
     "metadata": {},
     "output_type": "execute_result"
    }
   ],
   "source": [
    "type(x)"
   ]
  },
  {
   "cell_type": "code",
   "execution_count": 36,
   "id": "727d53e0",
   "metadata": {},
   "outputs": [
    {
     "name": "stdout",
     "output_type": "stream",
     "text": [
      "i is smaller than 15\n",
      " i'm in if block\n"
     ]
    }
   ],
   "source": [
    "i=14\n",
    "if(i < 15):\n",
    "    print(\"i is smaller than 15\");\n",
    "    print(\" i'm in if block\")\n",
    "else :\n",
    "    print(\"i is greater than 15\");\n",
    "    print(\" i'm in if block\");"
   ]
  },
  {
   "cell_type": "code",
   "execution_count": 46,
   "id": "d991fd50",
   "metadata": {},
   "outputs": [
    {
     "name": "stdout",
     "output_type": "stream",
     "text": [
      "Enter a number 13\n",
      "i is not equal to 10\n"
     ]
    }
   ],
   "source": [
    "i=int(input(\"Enter a number \"))\n",
    "if(i==10):\n",
    "    if(i<15):\n",
    "        print(\"i is smaller than 15\")\n",
    "        if(i<12):\n",
    "            print(\"is is smaller than 12 too\")\n",
    "        else:\n",
    "            print(\"i is greater than 12\")\n",
    "    else:\n",
    "        print(\"i is greater than 15\")\n",
    "else:\n",
    "    print(\"i is not equal to 10\")"
   ]
  },
  {
   "cell_type": "code",
   "execution_count": 61,
   "id": "1f7f8a78",
   "metadata": {},
   "outputs": [
    {
     "name": "stdout",
     "output_type": "stream",
     "text": [
      "Enter a number 21\n",
      "i is greater than 20\n"
     ]
    }
   ],
   "source": [
    "i=int(input(\"Enter a number \"))\n",
    "if(i>20):\n",
    "    print(\"i is greater than 20\")\n",
    "elif(i>15):\n",
    "    print(\"i is greater than 15\")\n",
    "elif(i>10):\n",
    "    print(\"i is greater than 10\")\n",
    "else:\n",
    "    print(\"i is smaller than 10\")"
   ]
  },
  {
   "cell_type": "code",
   "execution_count": 64,
   "id": "6ea4c7c5",
   "metadata": {},
   "outputs": [
    {
     "name": "stdout",
     "output_type": "stream",
     "text": [
      "Enter a number 10\n"
     ]
    }
   ],
   "source": [
    "%run D:\\210970049\\Sample1.py"
   ]
  },
  {
   "cell_type": "code",
   "execution_count": 70,
   "id": "7b8a4746",
   "metadata": {},
   "outputs": [
    {
     "name": "stdout",
     "output_type": "stream",
     "text": [
      "1.Addition\n",
      "2.Subtraction\n",
      "3.Multiplication\n",
      "4.Division\n",
      "Enter your choice 5\n",
      "Invalid Inpuut\n",
      "30\n"
     ]
    }
   ],
   "source": [
    "print(\"1.Addition\\n2.Subtraction\\n3.Multiplication\\n4.Division\")\n",
    "ch=int(input(\"Enter your choice \"))\n",
    "result=0\n",
    "if( ch==1)or( ch==2 )or(ch==3 )or(| ch==4):\n",
    "    a=int(input(\"Enter a value for a : \"))\n",
    "    b=int(input(\"Enter a value for b : \"))\n",
    "    if(ch==1):\n",
    "        print(\"Result = \",a+b)\n",
    "    elif(ch==2):\n",
    "        print(\"Result = \",a-b)\n",
    "    elif(ch==3):\n",
    "        print(\"Result = \",a*b)\n",
    "    elif(ch==4):\n",
    "        print(\"Result = \",a/b)\n",
    "else:\n",
    "    print(\"Invalid Input\")\n",
    "\n"
   ]
  },
  {
   "cell_type": "code",
   "execution_count": 92,
   "id": "399e3e17",
   "metadata": {},
   "outputs": [
    {
     "name": "stdout",
     "output_type": "stream",
     "text": [
      "1.Addition\n",
      "2.Subtraction\n",
      "3.Multiplication\n",
      "4.Division\n",
      "Enter your choice 7\n",
      "Invalid Input\n"
     ]
    }
   ],
   "source": [
    "%run D:\\210970049\\ArithmaticOp.py"
   ]
  },
  {
   "cell_type": "code",
   "execution_count": 125,
   "id": "81f6d5a5",
   "metadata": {},
   "outputs": [
    {
     "name": "stdout",
     "output_type": "stream",
     "text": [
      "Enter a character a\n",
      "c\n"
     ]
    }
   ],
   "source": [
    "ch=(input(\"Enter a character \"))\n",
    "enCh=ord((ch))\n",
    "encode=enCh+2\n",
    "print(chr(encode))"
   ]
  },
  {
   "cell_type": "code",
   "execution_count": 464,
   "id": "d9f1e189",
   "metadata": {},
   "outputs": [
    {
     "name": "stdout",
     "output_type": "stream",
     "text": [
      "80\n"
     ]
    }
   ],
   "source": [
    "import random\n",
    "n=random.randint(0,100)\n",
    "print(n)"
   ]
  },
  {
   "cell_type": "code",
   "execution_count": 478,
   "id": "b1ac00ec",
   "metadata": {},
   "outputs": [
    {
     "name": "stdout",
     "output_type": "stream",
     "text": [
      "[40, 53, 89, 65, 58]\n"
     ]
    }
   ],
   "source": [
    "import random\n",
    "randomList = random.sample(range(30,90),5)\n",
    "print(randomList)"
   ]
  },
  {
   "cell_type": "code",
   "execution_count": null,
   "id": "b18e5100",
   "metadata": {},
   "outputs": [],
   "source": [
    "import random\n",
    "randomList = []\n",
    "for i in range(0,5):\n",
    "    n=random.randint(30,90)\n",
    "    randomList.append(n)\n",
    "print(randomList)"
   ]
  }
 ],
 "metadata": {
  "kernelspec": {
   "display_name": "Python 3",
   "language": "python",
   "name": "python3"
  },
  "language_info": {
   "codemirror_mode": {
    "name": "ipython",
    "version": 3
   },
   "file_extension": ".py",
   "mimetype": "text/x-python",
   "name": "python",
   "nbconvert_exporter": "python",
   "pygments_lexer": "ipython3",
   "version": "3.8.8"
  }
 },
 "nbformat": 4,
 "nbformat_minor": 5
}
