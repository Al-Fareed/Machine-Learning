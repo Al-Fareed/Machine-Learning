{
 "cells": [
  {
   "cell_type": "code",
   "execution_count": 1,
   "id": "1794c601",
   "metadata": {},
   "outputs": [],
   "source": [
    "import random\n",
    "l1 = [10,20,30,40,50,60,70,80,90,100]\n"
   ]
  },
  {
   "cell_type": "code",
   "execution_count": 2,
   "id": "bdafea27",
   "metadata": {},
   "outputs": [
    {
     "name": "stdout",
     "output_type": "stream",
     "text": [
      "[25.0, 50.0, 75.0, 100.0, 125.0, 150.0, 175.0, 200.0, 225.0, 250.0]\n"
     ]
    }
   ],
   "source": [
    "l2=[]\n",
    "for i in l1:\n",
    "    l2.append(i*2.5)\n",
    "print(l2)"
   ]
  },
  {
   "cell_type": "code",
   "execution_count": 3,
   "id": "d0d08496",
   "metadata": {},
   "outputs": [],
   "source": [
    "import pandas as pd\n",
    "import matplotlib.pyplot as plt\n",
    "import seaborn as sns\n",
    "import itertools\n",
    "import numpy as np\n"
   ]
  },
  {
   "cell_type": "code",
   "execution_count": 4,
   "id": "3fe0607a",
   "metadata": {},
   "outputs": [
    {
     "data": {
      "text/plain": [
       "<matplotlib.collections.PathCollection at 0x29d305c1790>"
      ]
     },
     "execution_count": 4,
     "metadata": {},
     "output_type": "execute_result"
    },
    {
     "data": {
      "image/png": "[encoded data removed]",
      "text/plain": [
       "<Figure size 432x288 with 1 Axes>"
      ]
     },
     "metadata": {
      "needs_background": "light"
     },
     "output_type": "display_data"
    }
   ],
   "source": [
    "\n",
    "plt.scatter(l1,l2,c=\"blue\")"
   ]
  },
  {
   "cell_type": "code",
   "execution_count": 5,
   "id": "ba1af2f0",
   "metadata": {},
   "outputs": [
    {
     "name": "stdout",
     "output_type": "stream",
     "text": [
      "55.0\n"
     ]
    }
   ],
   "source": [
    "import numpy as np\n",
    "xmean=np.mean(l1)\n",
    "print(xmean)"
   ]
  },
  {
   "cell_type": "code",
   "execution_count": 8,
   "id": "70ed78cd",
   "metadata": {},
   "outputs": [
    {
     "name": "stdout",
     "output_type": "stream",
     "text": [
      "137.5\n"
     ]
    }
   ],
   "source": [
    "import numpy as np\n",
    "ymean=np.mean(l2)\n",
    "print(ymean)"
   ]
  },
  {
   "cell_type": "code",
   "execution_count": 9,
   "id": "3997754f",
   "metadata": {},
   "outputs": [
    {
     "name": "stdout",
     "output_type": "stream",
     "text": [
      "20625.0\n"
     ]
    }
   ],
   "source": [
    "sum=0\n",
    "for i in range(0,len(l1)):\n",
    "    sum = sum + ( l1[i] - xmean ) * ( l2[i] - ymean )\n",
    "print(sum)   "
   ]
  },
  {
   "cell_type": "code",
   "execution_count": 12,
   "id": "3f02a92a",
   "metadata": {},
   "outputs": [
    {
     "name": "stdout",
     "output_type": "stream",
     "text": [
      "8250.0\n"
     ]
    }
   ],
   "source": [
    "denom=0\n",
    "for i in range(0,len(l1)):\n",
    "    denom = denom + ( l1[i] - xmean )**2\n",
    "print(denom)"
   ]
  },
  {
   "cell_type": "code",
   "execution_count": 13,
   "id": "f0df5987",
   "metadata": {},
   "outputs": [
    {
     "name": "stdout",
     "output_type": "stream",
     "text": [
      "2.5\n"
     ]
    }
   ],
   "source": [
    "b1 = sum/denom\n",
    "print(b1)"
   ]
  }
 ],
 "metadata": {
  "kernelspec": {
   "display_name": "Python 3",
   "language": "python",
   "name": "python3"
  },
  "language_info": {
   "codemirror_mode": {
    "name": "ipython",
    "version": 3
   },
   "file_extension": ".py",
   "mimetype": "text/x-python",
   "name": "python",
   "nbconvert_exporter": "python",
   "pygments_lexer": "ipython3",
   "version": "3.8.8"
  }
 },
 "nbformat": 4,
 "nbformat_minor": 5
}
