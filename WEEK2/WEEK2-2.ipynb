{
 "cells": [
  {
   "cell_type": "code",
   "execution_count": 1,
   "id": "4df54a95",
   "metadata": {},
   "outputs": [
    {
     "name": "stdout",
     "output_type": "stream",
     "text": [
      "['apple', 'banana', 'cherry']\n"
     ]
    }
   ],
   "source": [
    "thisList1 = list((\"apple\",\"banana\",\"cherry\"))\n",
    "print(thisList1)"
   ]
  },
  {
   "cell_type": "code",
   "execution_count": 2,
   "id": "87b197aa",
   "metadata": {},
   "outputs": [
    {
     "name": "stdout",
     "output_type": "stream",
     "text": [
      "[90, 34, 56, 88, 90, 42, 71, 73, 63, 52]\n"
     ]
    }
   ],
   "source": [
    "import random\n",
    "randomList = []\n",
    "for i in range(0,10):\n",
    "    n=random.randint(30,90)\n",
    "    randomList.append(n)\n",
    "print(randomList)"
   ]
  },
  {
   "cell_type": "code",
   "execution_count": 3,
   "id": "02e8f87a",
   "metadata": {},
   "outputs": [
    {
     "name": "stdout",
     "output_type": "stream",
     "text": [
      "52\n"
     ]
    }
   ],
   "source": [
    "lastIndex=len(randomList)\n",
    "index=lastIndex-1\n",
    "print(randomList[index])\n"
   ]
  },
  {
   "cell_type": "code",
   "execution_count": 11,
   "id": "92108a35",
   "metadata": {},
   "outputs": [],
   "source": [
    "def myPrint():\n",
    "    print(\"My first function\")"
   ]
  },
  {
   "cell_type": "code",
   "execution_count": 12,
   "id": "1d6b6d50",
   "metadata": {},
   "outputs": [
    {
     "name": "stdout",
     "output_type": "stream",
     "text": [
      "My first function\n"
     ]
    }
   ],
   "source": [
    "myPrint()"
   ]
  },
  {
   "cell_type": "code",
   "execution_count": 14,
   "id": "4d399366",
   "metadata": {},
   "outputs": [],
   "source": [
    "def add1(x,y):\n",
    "    sum = x + y\n",
    "    return(sum)"
   ]
  },
  {
   "cell_type": "code",
   "execution_count": 15,
   "id": "8f3181b5",
   "metadata": {},
   "outputs": [
    {
     "data": {
      "text/plain": [
       "30"
      ]
     },
     "execution_count": 15,
     "metadata": {},
     "output_type": "execute_result"
    }
   ],
   "source": [
    "add1(10,20)"
   ]
  },
  {
   "cell_type": "code",
   "execution_count": 16,
   "id": "280d5cd3",
   "metadata": {},
   "outputs": [
    {
     "name": "stdout",
     "output_type": "stream",
     "text": [
      "[55, 56, 90, 63, 70, 51, 59, 85, 38, 36]\n"
     ]
    }
   ],
   "source": [
    "import random\n",
    "l1 = []\n",
    "for i in range(0,10):\n",
    "    n=random.randint(30,90)\n",
    "    l1.append(n)\n",
    "print(l1)"
   ]
  },
  {
   "cell_type": "code",
   "execution_count": 17,
   "id": "f208de9a",
   "metadata": {},
   "outputs": [
    {
     "name": "stdout",
     "output_type": "stream",
     "text": [
      "[53, 72, 74, 55, 67, 86, 89, 64, 55, 69]\n"
     ]
    }
   ],
   "source": [
    "import random\n",
    "l2 = []\n",
    "for i in range(0,10):\n",
    "    n=random.randint(30,90)\n",
    "    l2.append(n)\n",
    "print(l2)"
   ]
  },
  {
   "cell_type": "code",
   "execution_count": 18,
   "id": "1232eb6f",
   "metadata": {},
   "outputs": [
    {
     "name": "stdout",
     "output_type": "stream",
     "text": [
      "10\n"
     ]
    }
   ],
   "source": [
    "print(len(l1))"
   ]
  },
  {
   "cell_type": "code",
   "execution_count": 22,
   "id": "e5750abc",
   "metadata": {},
   "outputs": [],
   "source": [
    "def square(l1):\n",
    "    sqr=sqr(l1)"
   ]
  },
  {
   "cell_type": "code",
   "execution_count": 25,
   "id": "910a3592",
   "metadata": {},
   "outputs": [
    {
     "name": "stdout",
     "output_type": "stream",
     "text": [
      "['apple', 'banana', 'cherry']\n",
      "['apple', 'orange', 'cherry']\n"
     ]
    }
   ],
   "source": [
    "List = [\"apple\",\"banana\",\"cherry\"]\n",
    "print(List)\n",
    "List[1]=\"orange\"\n",
    "print(List)"
   ]
  },
  {
   "cell_type": "code",
   "execution_count": 26,
   "id": "d6297b1e",
   "metadata": {},
   "outputs": [
    {
     "name": "stdout",
     "output_type": "stream",
     "text": [
      "['apple', 'banana', 'cherry']\n",
      "['apple', ['orange', 'black'], 'cherry']\n"
     ]
    }
   ],
   "source": [
    "List = [\"apple\",\"banana\",\"cherry\"]\n",
    "print(List)\n",
    "List[1]=[\"orange\",\"black\"]\n",
    "print(List)"
   ]
  },
  {
   "cell_type": "code",
   "execution_count": null,
   "id": "a2f35a9a",
   "metadata": {},
   "outputs": [],
   "source": [
    "List = [\"apple\",\"banana\",\"cherry\"]\n",
    "thisList = [\"orange\",\"black currant\"]"
   ]
  },
  {
   "cell_type": "code",
   "execution_count": 29,
   "id": "c95a6458",
   "metadata": {},
   "outputs": [
    {
     "name": "stdout",
     "output_type": "stream",
     "text": [
      "NO\n"
     ]
    }
   ],
   "source": [
    "if \"apples\" in List:\n",
    "    print(\"Present\")\n",
    "else :\n",
    "    print(\"NO\")"
   ]
  },
  {
   "cell_type": "code",
   "execution_count": 35,
   "id": "0cdd2160",
   "metadata": {},
   "outputs": [
    {
     "name": "stdout",
     "output_type": "stream",
     "text": [
      "['black currant', 'apple', 'banana', 'cherry']\n"
     ]
    }
   ],
   "source": [
    "thisList = [\"orange\",\"black currant\",\"apple\",\"banana\",\"cherry\"]\n",
    "del thisList[0]\n",
    "print(thisList)"
   ]
  },
  {
   "cell_type": "code",
   "execution_count": 36,
   "id": "d6c764cf",
   "metadata": {},
   "outputs": [
    {
     "name": "stdout",
     "output_type": "stream",
     "text": [
      "orange\n",
      "black currant\n",
      "apple\n",
      "banana\n",
      "cherry\n"
     ]
    }
   ],
   "source": [
    "thisList = [\"orange\",\"black currant\",\"apple\",\"banana\",\"cherry\"]\n",
    "i=0\n",
    "while i < len(thisList):\n",
    "    print(thisList[i])\n",
    "    i=i+1"
   ]
  },
  {
   "cell_type": "code",
   "execution_count": 38,
   "id": "e59f2e68",
   "metadata": {},
   "outputs": [
    {
     "name": "stdout",
     "output_type": "stream",
     "text": [
      "['orange', 'black currant', 'apple', 'banana', 'cherry']\n"
     ]
    }
   ],
   "source": [
    "print(thisList[0:len(thisList)])"
   ]
  },
  {
   "cell_type": "code",
   "execution_count": 33,
   "id": "7ee4e393",
   "metadata": {},
   "outputs": [
    {
     "name": "stdout",
     "output_type": "stream",
     "text": [
      "[]\n"
     ]
    }
   ],
   "source": [
    "thisList = [\"orange\",\"black currant\"]\n",
    "thisList.clear()\n",
    "print(thisList)"
   ]
  },
  {
   "cell_type": "code",
   "execution_count": 42,
   "id": "24382999",
   "metadata": {},
   "outputs": [
    {
     "name": "stdout",
     "output_type": "stream",
     "text": [
      "['apple', 'banana', 'mango']\n"
     ]
    }
   ],
   "source": [
    "fruits=[\"apple\",\"banana\",\"cherry\",\"kiwi\",\"mango\"]\n",
    "newList = []\n",
    "for x in fruits:\n",
    "    if \"a\" in x:\n",
    "        newList.append(x)\n",
    "print(newList)"
   ]
  },
  {
   "cell_type": "code",
   "execution_count": 43,
   "id": "7951e861",
   "metadata": {},
   "outputs": [
    {
     "name": "stdout",
     "output_type": "stream",
     "text": [
      "['apple', 'banana', 'mango']\n"
     ]
    }
   ],
   "source": [
    "fruits=[\"apple\",\"banana\",\"cherry\",\"kiwi\",\"mango\"]\n",
    "newList = [x for x in fruits if \"a\" in x]\n",
    "print(newList)"
   ]
  },
  {
   "cell_type": "code",
   "execution_count": 44,
   "id": "02b17d86",
   "metadata": {},
   "outputs": [
    {
     "name": "stdout",
     "output_type": "stream",
     "text": [
      "1\n",
      "2\n",
      "3\n"
     ]
    }
   ],
   "source": [
    "import array\n",
    "sample_array = array.array('i',[1,2,3])\n",
    "for i in sample_array:\n",
    "    print(i)"
   ]
  },
  {
   "cell_type": "code",
   "execution_count": 46,
   "id": "efff888e",
   "metadata": {},
   "outputs": [
    {
     "name": "stdout",
     "output_type": "stream",
     "text": [
      "array('i', [1, 2])\n"
     ]
    }
   ],
   "source": [
    "print(sample_array[0:2])"
   ]
  },
  {
   "cell_type": "code",
   "execution_count": 47,
   "id": "e8f6d63d",
   "metadata": {},
   "outputs": [
    {
     "data": {
      "text/plain": [
       "3"
      ]
     },
     "execution_count": 47,
     "metadata": {},
     "output_type": "execute_result"
    }
   ],
   "source": [
    "len(sample_array)"
   ]
  },
  {
   "cell_type": "code",
   "execution_count": 59,
   "id": "26202cae",
   "metadata": {},
   "outputs": [
    {
     "data": {
      "image/png": "[encoded data removed]",
      "text/plain": [
       "<Figure size 720x360 with 1 Axes>"
      ]
     },
     "metadata": {
      "needs_background": "light"
     },
     "output_type": "display_data"
    }
   ],
   "source": [
    "import numpy as np\n",
    "import matplotlib.pyplot as plt\n",
    "\n",
    "#Dataset generation\n",
    "\n",
    "data_dict = {'CSE':30,'ECC':25,'EEE':30}\n",
    "\n",
    "courses = list(data_dict.keys())\n",
    "\n",
    "values = list(data_dict.values())\n",
    "\n",
    "fig = plt.figure(figsize = (10,5))\n",
    "\n",
    "# Bar plot\n",
    "plt.bar(courses,values,color = 'green',width = 0.5)\n",
    "\n",
    "plt.xlabel(\"Courses offered\")\n",
    "\n",
    "plt.ylabel(\"No of Students enrolled\")\n",
    "\n",
    "plt.title(\"Students enrolled in different courses\")\n",
    "\n",
    "plt.show()"
   ]
  },
  {
   "cell_type": "code",
   "execution_count": 67,
   "id": "ade362c1",
   "metadata": {},
   "outputs": [
    {
     "data": {
      "image/png": "[encoded data removed]",
      "text/plain": [
       "<Figure size 720x360 with 1 Axes>"
      ]
     },
     "metadata": {
      "needs_background": "light"
     },
     "output_type": "display_data"
    }
   ],
   "source": [
    "import numpy as np\n",
    "import matplotlib.pyplot as plt\n",
    "\n",
    "#Dataset generation\n",
    "\n",
    "data_dict = {45:90 , 46:90, 47:78 , 48:60 , 49:86 , 50:89 , 51:87 , 52:86}\n",
    "\n",
    "courses = list(data_dict.keys())\n",
    "\n",
    "values = list(data_dict.values())\n",
    "\n",
    "fig = plt.figure(figsize = (10,5))\n",
    "\n",
    "# Bar plot\n",
    "plt.bar(courses,values,color = 'green',width = 0.5)\n",
    "\n",
    "plt.xlabel(\"Registeration Number\")\n",
    "\n",
    "plt.ylabel(\"Marks of each students \")\n",
    "\n",
    "plt.title(\"Optimization Technique\")\n",
    "\n",
    "plt.show()"
   ]
  },
  {
   "cell_type": "code",
   "execution_count": 68,
   "id": "295dd10c",
   "metadata": {},
   "outputs": [
    {
     "data": {
      "image/png": "[encoded data removed]",
      "text/plain": [
       "<Figure size 720x360 with 1 Axes>"
      ]
     },
     "metadata": {
      "needs_background": "light"
     },
     "output_type": "display_data"
    }
   ],
   "source": [
    "import numpy as np\n",
    "import matplotlib.pyplot as plt\n",
    "\n",
    "#Dataset generation\n",
    "\n",
    "data_dict = {45:95 , 46:67, 47:87 , 48:90 , 49:86 , 50:79 , 51:97 , 52:99}\n",
    "\n",
    "courses = list(data_dict.keys())\n",
    "\n",
    "values = list(data_dict.values())\n",
    "\n",
    "fig = plt.figure(figsize = (10,5))\n",
    "\n",
    "# Bar plot\n",
    "plt.bar(courses,values,color = 'green',width = 0.5)\n",
    "\n",
    "plt.xlabel(\"Registeration Number\")\n",
    "\n",
    "plt.ylabel(\"Marks of each students \")\n",
    "\n",
    "plt.title(\"Android Programming\")\n",
    "\n",
    "plt.show()"
   ]
  },
  {
   "cell_type": "code",
   "execution_count": 69,
   "id": "06c2dc89",
   "metadata": {},
   "outputs": [
    {
     "data": {
      "image/png": "[encoded data removed]",
      "text/plain": [
       "<Figure size 720x360 with 1 Axes>"
      ]
     },
     "metadata": {
      "needs_background": "light"
     },
     "output_type": "display_data"
    }
   ],
   "source": [
    "import numpy as np\n",
    "import matplotlib.pyplot as plt\n",
    "\n",
    "#Dataset generation\n",
    "\n",
    "data_dict = {45:85 , 46:75, 47:68 , 48:70 , 49:65 , 50:46 , 51:82 , 52:79}\n",
    "\n",
    "courses = list(data_dict.keys())\n",
    "\n",
    "values = list(data_dict.values())\n",
    "\n",
    "fig = plt.figure(figsize = (10,5))\n",
    "\n",
    "# Bar plot\n",
    "plt.bar(courses,values,color = 'green',width = 0.5)\n",
    "\n",
    "plt.xlabel(\"Registeration Number\")\n",
    "\n",
    "plt.ylabel(\"Marks of each students \")\n",
    "\n",
    "plt.title(\"Machine Learning\")\n",
    "\n",
    "plt.show()"
   ]
  },
  {
   "cell_type": "code",
   "execution_count": 73,
   "id": "c67ccfb9",
   "metadata": {},
   "outputs": [
    {
     "data": {
      "image/png": "[encoded data removed]",
      "text/plain": [
       "<Figure size 720x360 with 1 Axes>"
      ]
     },
     "metadata": {
      "needs_background": "light"
     },
     "output_type": "display_data"
    }
   ],
   "source": [
    "import numpy as np\n",
    "import matplotlib.pyplot as plt\n",
    "\n",
    "#Dataset generation\n",
    "\n",
    "data_dict = {\"Subject-1\":85 , \"Subject-2\":75, \"Subject-3\":68}\n",
    "\n",
    "courses = list(data_dict.keys())\n",
    "\n",
    "values = list(data_dict.values())\n",
    "\n",
    "fig = plt.figure(figsize = (10,5))\n",
    "\n",
    "# Bar plot\n",
    "plt.bar(courses,values,color = 'green',width = 0.5)\n",
    "\n",
    "plt.xlabel(\"Subjects\")\n",
    "\n",
    "plt.ylabel(\"Marks of each students \")\n",
    "\n",
    "plt.title(\"Asuthosh\")\n",
    "\n",
    "plt.show()"
   ]
  },
  {
   "cell_type": "code",
   "execution_count": 74,
   "id": "1ec4b572",
   "metadata": {},
   "outputs": [
    {
     "data": {
      "image/png": "[encoded data removed]",
      "text/plain": [
       "<Figure size 720x360 with 1 Axes>"
      ]
     },
     "metadata": {
      "needs_background": "light"
     },
     "output_type": "display_data"
    }
   ],
   "source": [
    "import numpy as np\n",
    "import matplotlib.pyplot as plt\n",
    "\n",
    "#Dataset generation\n",
    "\n",
    "data_dict = {\"Subject-1\":77 , \"Subject-2\":88, \"Subject-3\":99}\n",
    "\n",
    "courses = list(data_dict.keys())\n",
    "\n",
    "values = list(data_dict.values())\n",
    "\n",
    "fig = plt.figure(figsize = (10,5))\n",
    "\n",
    "# Bar plot\n",
    "plt.bar(courses,values,color = 'green',width = 0.5)\n",
    "\n",
    "plt.xlabel(\"Subjects\")\n",
    "\n",
    "plt.ylabel(\"Marks of each students \")\n",
    "\n",
    "plt.title(\"Al-Fareed\")\n",
    "\n",
    "plt.show()"
   ]
  },
  {
   "cell_type": "code",
   "execution_count": 77,
   "id": "55dba597",
   "metadata": {},
   "outputs": [
    {
     "data": {
      "image/png": "[encoded data removed]",
      "text/plain": [
       "<Figure size 360x360 with 1 Axes>"
      ]
     },
     "metadata": {
      "needs_background": "light"
     },
     "output_type": "display_data"
    }
   ],
   "source": [
    "import numpy as np\n",
    "import matplotlib.pyplot as plt\n",
    "\n",
    "#Dataset generation\n",
    "\n",
    "data_dict = {\"Subject-1\":89 , \"Subject-2\":88, \"Subject-3\":95}\n",
    "\n",
    "courses = list(data_dict.keys())\n",
    "\n",
    "values = list(data_dict.values())\n",
    "\n",
    "fig = plt.figure(figsize = (5,5))\n",
    "\n",
    "# Bar plot\n",
    "plt.bar(courses,values,color = 'green',width = 0.5)\n",
    "\n",
    "plt.xlabel(\"Subjects\")\n",
    "\n",
    "plt.ylabel(\"Marks of each students \")\n",
    "\n",
    "plt.title(\"Jason\")\n",
    "\n",
    "plt.show()"
   ]
  },
  {
   "cell_type": "code",
   "execution_count": 76,
   "id": "e958c63d",
   "metadata": {},
   "outputs": [],
   "source": [
    "import pandas as pd\n",
    "import matplotlib.pyplot as plt\n",
    "import seaborn as sns\n",
    "import itertools"
   ]
  },
  {
   "cell_type": "code",
   "execution_count": 87,
   "id": "ead07e7f",
   "metadata": {},
   "outputs": [
    {
     "data": {
      "text/plain": [
       "Text(0.5, 0, 'Players')"
      ]
     },
     "execution_count": 87,
     "metadata": {},
     "output_type": "execute_result"
    },
    {
     "data": {
      "image/png": "[encoded data removed]",
      "text/plain": [
       "<Figure size 1080x576 with 1 Axes>"
      ]
     },
     "metadata": {
      "needs_background": "light"
     },
     "output_type": "display_data"
    }
   ],
   "source": [
    "plotdata = pd.DataFrame({\n",
    "    \n",
    "    \"2018\":[57,67,77,83],\n",
    "    \"2019\":[46,65,68,13],\n",
    "    \"2020\":[78,32,89,54]},\n",
    "\n",
    "    index=[\"Django\",\"Messi\",\"Ronaldo\",\"Bravo\"])\n",
    "\n",
    "plotdata.plot(kind=\"bar\",figsize=(15,8))\n",
    "\n",
    "plt.title(\"FIFA ratings\")\n",
    "    \n",
    "plt.xlabel(\"Players\")\n"
   ]
  },
  {
   "cell_type": "code",
   "execution_count": 88,
   "id": "a17a7490",
   "metadata": {},
   "outputs": [
    {
     "data": {
      "text/plain": [
       "Text(0.5, 0, 'Players')"
      ]
     },
     "execution_count": 88,
     "metadata": {},
     "output_type": "execute_result"
    },
    {
     "data": {
      "image/png": "[encoded data removed]",
      "text/plain": [
       "<Figure size 1080x576 with 1 Axes>"
      ]
     },
     "metadata": {
      "needs_background": "light"
     },
     "output_type": "display_data"
    }
   ],
   "source": [
    "plotdata = pd.DataFrame({\n",
    "    \n",
    "    \"2018\":[57,67,77,83],\n",
    "    \"2019\":[46,65,68,13],\n",
    "    \"2020\":[78,32,89,54]},\n",
    "\n",
    "    index=[\"Django\",\"Messi\",\"Ronaldo\",\"Bravo\"])\n",
    "\n",
    "plotdata.plot(kind=\"bar\",stacked=True,figsize=(15,8))\n",
    "\n",
    "plt.title(\"FIFA ratings\")\n",
    "    \n",
    "plt.xlabel(\"Players\")\n"
   ]
  }
 ],
 "metadata": {
  "kernelspec": {
   "display_name": "Python 3",
   "language": "python",
   "name": "python3"
  },
  "language_info": {
   "codemirror_mode": {
    "name": "ipython",
    "version": 3
   },
   "file_extension": ".py",
   "mimetype": "text/x-python",
   "name": "python",
   "nbconvert_exporter": "python",
   "pygments_lexer": "ipython3",
   "version": "3.8.8"
  }
 },
 "nbformat": 4,
 "nbformat_minor": 5
}
