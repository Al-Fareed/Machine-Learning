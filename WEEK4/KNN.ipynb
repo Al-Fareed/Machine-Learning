{
 "cells": [
  {
   "cell_type": "code",
   "execution_count": 63,
   "id": "fb39b9de",
   "metadata": {},
   "outputs": [],
   "source": [
    "import pandas as pd\n",
    "import matplotlib.pyplot as plt\n",
    "import seaborn as sns\n",
    "import itertools\n",
    "import math\n",
    "import numpy as np\n",
    "from sklearn import linear_model\n",
    "from sklearn.linear_model import LinearRegression\n",
    "from sklearn.model_selection import train_test_split\n",
    "from sklearn.metrics import r2_score\n",
    "from scipy.spatial import distance_matrix"
   ]
  },
  {
   "cell_type": "code",
   "execution_count": 28,
   "id": "96d4cd85",
   "metadata": {},
   "outputs": [
    {
     "data": {
      "text/html": [
       "<div>\n",
       "<style scoped>\n",
       "    .dataframe tbody tr th:only-of-type {\n",
       "        vertical-align: middle;\n",
       "    }\n",
       "\n",
       "    .dataframe tbody tr th {\n",
       "        vertical-align: top;\n",
       "    }\n",
       "\n",
       "    .dataframe thead th {\n",
       "        text-align: right;\n",
       "    }\n",
       "</style>\n",
       "<table border=\"1\" class=\"dataframe\">\n",
       "  <thead>\n",
       "    <tr style=\"text-align: right;\">\n",
       "      <th></th>\n",
       "      <th>Temp</th>\n",
       "      <th>Sales</th>\n",
       "    </tr>\n",
       "  </thead>\n",
       "  <tbody>\n",
       "    <tr>\n",
       "      <th>0</th>\n",
       "      <td>65</td>\n",
       "      <td>20</td>\n",
       "    </tr>\n",
       "    <tr>\n",
       "      <th>1</th>\n",
       "      <td>68</td>\n",
       "      <td>22</td>\n",
       "    </tr>\n",
       "    <tr>\n",
       "      <th>2</th>\n",
       "      <td>66</td>\n",
       "      <td>21</td>\n",
       "    </tr>\n",
       "    <tr>\n",
       "      <th>3</th>\n",
       "      <td>75</td>\n",
       "      <td>23</td>\n",
       "    </tr>\n",
       "    <tr>\n",
       "      <th>4</th>\n",
       "      <td>81</td>\n",
       "      <td>25</td>\n",
       "    </tr>\n",
       "  </tbody>\n",
       "</table>\n",
       "</div>"
      ],
      "text/plain": [
       "   Temp  Sales\n",
       "0    65     20\n",
       "1    68     22\n",
       "2    66     21\n",
       "3    75     23\n",
       "4    81     25"
      ]
     },
     "execution_count": 28,
     "metadata": {},
     "output_type": "execute_result"
    }
   ],
   "source": [
    "df1=pd.read_csv(r'C:\\Users\\mca\\Documents\\210970049-ML\\WEEK4\\DataSet1.csv')\n",
    "df1.head()"
   ]
  },
  {
   "cell_type": "code",
   "execution_count": 29,
   "id": "7966d136",
   "metadata": {},
   "outputs": [
    {
     "data": {
      "text/html": [
       "<div>\n",
       "<style scoped>\n",
       "    .dataframe tbody tr th:only-of-type {\n",
       "        vertical-align: middle;\n",
       "    }\n",
       "\n",
       "    .dataframe tbody tr th {\n",
       "        vertical-align: top;\n",
       "    }\n",
       "\n",
       "    .dataframe thead th {\n",
       "        text-align: right;\n",
       "    }\n",
       "</style>\n",
       "<table border=\"1\" class=\"dataframe\">\n",
       "  <thead>\n",
       "    <tr style=\"text-align: right;\">\n",
       "      <th></th>\n",
       "      <th>Temp</th>\n",
       "      <th>Sales</th>\n",
       "    </tr>\n",
       "  </thead>\n",
       "  <tbody>\n",
       "    <tr>\n",
       "      <th>0</th>\n",
       "      <td>90</td>\n",
       "      <td>29</td>\n",
       "    </tr>\n",
       "    <tr>\n",
       "      <th>1</th>\n",
       "      <td>82</td>\n",
       "      <td>28</td>\n",
       "    </tr>\n",
       "    <tr>\n",
       "      <th>2</th>\n",
       "      <td>80</td>\n",
       "      <td>26</td>\n",
       "    </tr>\n",
       "    <tr>\n",
       "      <th>3</th>\n",
       "      <td>76</td>\n",
       "      <td>26</td>\n",
       "    </tr>\n",
       "    <tr>\n",
       "      <th>4</th>\n",
       "      <td>74</td>\n",
       "      <td>24</td>\n",
       "    </tr>\n",
       "  </tbody>\n",
       "</table>\n",
       "</div>"
      ],
      "text/plain": [
       "   Temp  Sales\n",
       "0    90     29\n",
       "1    82     28\n",
       "2    80     26\n",
       "3    76     26\n",
       "4    74     24"
      ]
     },
     "execution_count": 29,
     "metadata": {},
     "output_type": "execute_result"
    }
   ],
   "source": [
    "df2=pd.read_csv(r'C:\\Users\\mca\\Documents\\210970049-ML\\WEEK4\\DataSet2.csv')\n",
    "df2.head()"
   ]
  },
  {
   "cell_type": "code",
   "execution_count": 40,
   "id": "b7fe44c0",
   "metadata": {},
   "outputs": [
    {
     "name": "stdout",
     "output_type": "stream",
     "text": [
      "[65, 68, 66, 75, 81, 76, 78, 85, 88, 95]\n"
     ]
    }
   ],
   "source": [
    "x1=list(df1['Temp'])\n",
    "print(x1)"
   ]
  },
  {
   "cell_type": "code",
   "execution_count": 39,
   "id": "e0a772e1",
   "metadata": {},
   "outputs": [
    {
     "name": "stdout",
     "output_type": "stream",
     "text": [
      "[20, 22, 21, 23, 25, 26, 28, 30, 30, 35]\n"
     ]
    }
   ],
   "source": [
    "y1=list(df1['Sales'])\n",
    "print(y1)"
   ]
  },
  {
   "cell_type": "code",
   "execution_count": 38,
   "id": "d2781718",
   "metadata": {},
   "outputs": [
    {
     "name": "stdout",
     "output_type": "stream",
     "text": [
      "[90, 82, 80, 76, 74, 73, 73, 77, 68, 60]\n"
     ]
    }
   ],
   "source": [
    "x2=list(df2['Temp'])\n",
    "print(x2)"
   ]
  },
  {
   "cell_type": "code",
   "execution_count": 37,
   "id": "bf9203ac",
   "metadata": {},
   "outputs": [
    {
     "name": "stdout",
     "output_type": "stream",
     "text": [
      "[29, 28, 26, 26, 24, 24, 20, 18, 19, 20]\n"
     ]
    }
   ],
   "source": [
    "y2=list(df2['Sales'])\n",
    "print(y2)"
   ]
  },
  {
   "cell_type": "code",
   "execution_count": 46,
   "id": "96b4641f",
   "metadata": {},
   "outputs": [
    {
     "name": "stdout",
     "output_type": "stream",
     "text": [
      "[26.570660511172846, 15.231546211727817, 14.866068747318506, 3.1622776601683795, 7.0710678118654755, 3.605551275463989, 9.433981132056603, 14.422205101855956, 22.825424421026653, 38.07886552931954]\n"
     ]
    }
   ],
   "source": [
    "lists1=[]\n",
    "for i in range(0,10):\n",
    "    distance=math.sqrt(((x2[i]-x1[i])**2)+((y2[i]-y1[i])**2) )\n",
    "    lists1.append(distance)\n",
    "print(lists1)"
   ]
  },
  {
   "cell_type": "code",
   "execution_count": 60,
   "id": "32895284",
   "metadata": {},
   "outputs": [
    {
     "name": "stdout",
     "output_type": "stream",
     "text": [
      "array('f', [26.570659637451172, 15.231546401977539, 14.866068840026855, 3.1622776985168457, 7.071067810058594, 3.605551242828369, 9.433980941772461, 14.422204971313477, 22.825424194335938, 38.07886505126953])\n"
     ]
    }
   ],
   "source": [
    "from array import array\n",
    "matrices=array(\"f\",lists1)\n",
    "print(matrices)\n"
   ]
  },
  {
   "cell_type": "code",
   "execution_count": 59,
   "id": "682a4c31",
   "metadata": {},
   "outputs": [
    {
     "ename": "AttributeError",
     "evalue": "'array.array' object has no attribute 'reshape'",
     "output_type": "error",
     "traceback": [
      "\u001b[1;31m---------------------------------------------------------------------------\u001b[0m",
      "\u001b[1;31mAttributeError\u001b[0m                            Traceback (most recent call last)",
      "\u001b[1;32m<ipython-input-59-1ac2890f8953>\u001b[0m in \u001b[0;36m<module>\u001b[1;34m\u001b[0m\n\u001b[1;32m----> 1\u001b[1;33m \u001b[0mmatrix\u001b[0m\u001b[1;33m=\u001b[0m\u001b[0mmatrices\u001b[0m\u001b[1;33m.\u001b[0m\u001b[0mreshape\u001b[0m\u001b[1;33m(\u001b[0m\u001b[1;36m10\u001b[0m\u001b[1;33m,\u001b[0m\u001b[1;36m10\u001b[0m\u001b[1;33m)\u001b[0m\u001b[1;33m\u001b[0m\u001b[1;33m\u001b[0m\u001b[0m\n\u001b[0m\u001b[0;32m      2\u001b[0m \u001b[0mprint\u001b[0m\u001b[1;33m(\u001b[0m\u001b[0mmatrix\u001b[0m\u001b[1;33m)\u001b[0m\u001b[1;33m\u001b[0m\u001b[1;33m\u001b[0m\u001b[0m\n",
      "\u001b[1;31mAttributeError\u001b[0m: 'array.array' object has no attribute 'reshape'"
     ]
    }
   ],
   "source": [
    "matrix=matrices.reshape(10,10)\n",
    "print(matrix)"
   ]
  },
  {
   "cell_type": "code",
   "execution_count": 65,
   "id": "d7ade681",
   "metadata": {},
   "outputs": [
    {
     "data": {
      "text/html": [
       "<div>\n",
       "<style scoped>\n",
       "    .dataframe tbody tr th:only-of-type {\n",
       "        vertical-align: middle;\n",
       "    }\n",
       "\n",
       "    .dataframe tbody tr th {\n",
       "        vertical-align: top;\n",
       "    }\n",
       "\n",
       "    .dataframe thead th {\n",
       "        text-align: right;\n",
       "    }\n",
       "</style>\n",
       "<table border=\"1\" class=\"dataframe\">\n",
       "  <thead>\n",
       "    <tr style=\"text-align: right;\">\n",
       "      <th></th>\n",
       "      <th>0</th>\n",
       "      <th>1</th>\n",
       "      <th>2</th>\n",
       "      <th>3</th>\n",
       "      <th>4</th>\n",
       "      <th>5</th>\n",
       "      <th>6</th>\n",
       "      <th>7</th>\n",
       "      <th>8</th>\n",
       "      <th>9</th>\n",
       "    </tr>\n",
       "  </thead>\n",
       "  <tbody>\n",
       "    <tr>\n",
       "      <th>0</th>\n",
       "      <td>26.570661</td>\n",
       "      <td>18.788294</td>\n",
       "      <td>16.155494</td>\n",
       "      <td>12.529964</td>\n",
       "      <td>9.848858</td>\n",
       "      <td>8.944272</td>\n",
       "      <td>8.000000</td>\n",
       "      <td>12.165525</td>\n",
       "      <td>3.162278</td>\n",
       "      <td>5.000000</td>\n",
       "    </tr>\n",
       "    <tr>\n",
       "      <th>1</th>\n",
       "      <td>23.086793</td>\n",
       "      <td>15.231546</td>\n",
       "      <td>12.649111</td>\n",
       "      <td>8.944272</td>\n",
       "      <td>6.324555</td>\n",
       "      <td>5.385165</td>\n",
       "      <td>5.385165</td>\n",
       "      <td>9.848858</td>\n",
       "      <td>3.000000</td>\n",
       "      <td>8.246211</td>\n",
       "    </tr>\n",
       "    <tr>\n",
       "      <th>2</th>\n",
       "      <td>25.298221</td>\n",
       "      <td>17.464249</td>\n",
       "      <td>14.866069</td>\n",
       "      <td>11.180340</td>\n",
       "      <td>8.544004</td>\n",
       "      <td>7.615773</td>\n",
       "      <td>7.071068</td>\n",
       "      <td>11.401754</td>\n",
       "      <td>2.828427</td>\n",
       "      <td>6.082763</td>\n",
       "    </tr>\n",
       "    <tr>\n",
       "      <th>3</th>\n",
       "      <td>16.155494</td>\n",
       "      <td>8.602325</td>\n",
       "      <td>5.830952</td>\n",
       "      <td>3.162278</td>\n",
       "      <td>1.414214</td>\n",
       "      <td>2.236068</td>\n",
       "      <td>3.605551</td>\n",
       "      <td>5.385165</td>\n",
       "      <td>8.062258</td>\n",
       "      <td>15.297059</td>\n",
       "    </tr>\n",
       "    <tr>\n",
       "      <th>4</th>\n",
       "      <td>9.848858</td>\n",
       "      <td>3.162278</td>\n",
       "      <td>1.414214</td>\n",
       "      <td>5.099020</td>\n",
       "      <td>7.071068</td>\n",
       "      <td>8.062258</td>\n",
       "      <td>9.433981</td>\n",
       "      <td>8.062258</td>\n",
       "      <td>14.317821</td>\n",
       "      <td>21.587033</td>\n",
       "    </tr>\n",
       "    <tr>\n",
       "      <th>5</th>\n",
       "      <td>14.317821</td>\n",
       "      <td>6.324555</td>\n",
       "      <td>4.000000</td>\n",
       "      <td>0.000000</td>\n",
       "      <td>2.828427</td>\n",
       "      <td>3.605551</td>\n",
       "      <td>6.708204</td>\n",
       "      <td>8.062258</td>\n",
       "      <td>10.630146</td>\n",
       "      <td>17.088007</td>\n",
       "    </tr>\n",
       "    <tr>\n",
       "      <th>6</th>\n",
       "      <td>12.041595</td>\n",
       "      <td>4.000000</td>\n",
       "      <td>2.828427</td>\n",
       "      <td>2.828427</td>\n",
       "      <td>5.656854</td>\n",
       "      <td>6.403124</td>\n",
       "      <td>9.433981</td>\n",
       "      <td>10.049876</td>\n",
       "      <td>13.453624</td>\n",
       "      <td>19.697716</td>\n",
       "    </tr>\n",
       "    <tr>\n",
       "      <th>7</th>\n",
       "      <td>5.099020</td>\n",
       "      <td>3.605551</td>\n",
       "      <td>6.403124</td>\n",
       "      <td>9.848858</td>\n",
       "      <td>12.529964</td>\n",
       "      <td>13.416408</td>\n",
       "      <td>15.620499</td>\n",
       "      <td>14.422205</td>\n",
       "      <td>20.248457</td>\n",
       "      <td>26.925824</td>\n",
       "    </tr>\n",
       "    <tr>\n",
       "      <th>8</th>\n",
       "      <td>2.236068</td>\n",
       "      <td>6.324555</td>\n",
       "      <td>8.944272</td>\n",
       "      <td>12.649111</td>\n",
       "      <td>15.231546</td>\n",
       "      <td>16.155494</td>\n",
       "      <td>18.027756</td>\n",
       "      <td>16.278821</td>\n",
       "      <td>22.825424</td>\n",
       "      <td>29.732137</td>\n",
       "    </tr>\n",
       "    <tr>\n",
       "      <th>9</th>\n",
       "      <td>7.810250</td>\n",
       "      <td>14.764823</td>\n",
       "      <td>17.492856</td>\n",
       "      <td>21.023796</td>\n",
       "      <td>23.706539</td>\n",
       "      <td>24.596748</td>\n",
       "      <td>26.627054</td>\n",
       "      <td>24.758837</td>\n",
       "      <td>31.384710</td>\n",
       "      <td>38.078866</td>\n",
       "    </tr>\n",
       "  </tbody>\n",
       "</table>\n",
       "</div>"
      ],
      "text/plain": [
       "           0          1          2          3          4          5  \\\n",
       "0  26.570661  18.788294  16.155494  12.529964   9.848858   8.944272   \n",
       "1  23.086793  15.231546  12.649111   8.944272   6.324555   5.385165   \n",
       "2  25.298221  17.464249  14.866069  11.180340   8.544004   7.615773   \n",
       "3  16.155494   8.602325   5.830952   3.162278   1.414214   2.236068   \n",
       "4   9.848858   3.162278   1.414214   5.099020   7.071068   8.062258   \n",
       "5  14.317821   6.324555   4.000000   0.000000   2.828427   3.605551   \n",
       "6  12.041595   4.000000   2.828427   2.828427   5.656854   6.403124   \n",
       "7   5.099020   3.605551   6.403124   9.848858  12.529964  13.416408   \n",
       "8   2.236068   6.324555   8.944272  12.649111  15.231546  16.155494   \n",
       "9   7.810250  14.764823  17.492856  21.023796  23.706539  24.596748   \n",
       "\n",
       "           6          7          8          9  \n",
       "0   8.000000  12.165525   3.162278   5.000000  \n",
       "1   5.385165   9.848858   3.000000   8.246211  \n",
       "2   7.071068  11.401754   2.828427   6.082763  \n",
       "3   3.605551   5.385165   8.062258  15.297059  \n",
       "4   9.433981   8.062258  14.317821  21.587033  \n",
       "5   6.708204   8.062258  10.630146  17.088007  \n",
       "6   9.433981  10.049876  13.453624  19.697716  \n",
       "7  15.620499  14.422205  20.248457  26.925824  \n",
       "8  18.027756  16.278821  22.825424  29.732137  \n",
       "9  26.627054  24.758837  31.384710  38.078866  "
      ]
     },
     "execution_count": 65,
     "metadata": {},
     "output_type": "execute_result"
    }
   ],
   "source": [
    "pd.DataFrame(distance_matrix(df1.values,df2.values),index=df1.index,columns=df2.index)"
   ]
  }
 ],
 "metadata": {
  "kernelspec": {
   "display_name": "Python 3",
   "language": "python",
   "name": "python3"
  },
  "language_info": {
   "codemirror_mode": {
    "name": "ipython",
    "version": 3
   },
   "file_extension": ".py",
   "mimetype": "text/x-python",
   "name": "python",
   "nbconvert_exporter": "python",
   "pygments_lexer": "ipython3",
   "version": "3.8.8"
  }
 },
 "nbformat": 4,
 "nbformat_minor": 5
}
